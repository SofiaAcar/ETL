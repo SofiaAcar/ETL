{
 "cells": [
  {
   "cell_type": "markdown",
   "id": "912233cd-5810-4f84-883d-0a4df975a990",
   "metadata": {},
   "source": [
    "# EXTRACT-TRANSFORM-LOAD (ETL)"
   ]
  },
  {
   "cell_type": "markdown",
   "id": "33976407",
   "metadata": {},
   "source": [
    "<img src = \"https://i.ibb.co/h7XVhvy/image-2.png\" style=\"width:700px;height:500px\">"
   ]
  },
  {
   "cell_type": "markdown",
   "id": "3314eff9-11dc-40a0-b645-7e4ea66d109e",
   "metadata": {},
   "source": [
    "-------------------------------------------------------------------------------------------------------------------------------------------------- "
   ]
  },
  {
   "cell_type": "markdown",
   "id": "c5009e01-6ca0-4e4f-9514-6cc300a45246",
   "metadata": {},
   "source": [
    "## EXTRACT"
   ]
  },
  {
   "cell_type": "markdown",
   "id": "b6fd18d6",
   "metadata": {},
   "source": [
    "<img src = \"https://i.ibb.co/SB3sm9L/image.png\" style=\"width:700px;height:500px\">"
   ]
  },
  {
   "cell_type": "markdown",
   "id": "50457f7b",
   "metadata": {},
   "source": [
    "<img src = \"https://i.ibb.co/mSZtQsq/image-2.png\" style=\"width:700px;height:500px\">"
   ]
  },
  {
   "cell_type": "markdown",
   "id": "4129c741",
   "metadata": {},
   "source": [
    "<img src = \"https://i.ibb.co/pj7zcfL/image-3.png\" style=\"width:700px;height:500px\">"
   ]
  },
  {
   "cell_type": "markdown",
   "id": "450a0fd2",
   "metadata": {},
   "source": [
    "<img src = \"https://i.ibb.co/6Zk9pbp/image-4.png\" style=\"width:700px;height:500px\">"
   ]
  },
  {
   "cell_type": "markdown",
   "id": "e7e28787",
   "metadata": {},
   "source": [
    "<img src = \"https://i.ibb.co/1Rx9wPn/image-5.png\" style=\"width:700px;height:500px\">"
   ]
  },
  {
   "cell_type": "markdown",
   "id": "dccb435d",
   "metadata": {},
   "source": [
    "<img src = \"https://i.ibb.co/SB3sm9L/image.png\" style=\"width:700px;height:500px\">"
   ]
  },
  {
   "cell_type": "markdown",
   "id": "1e14d42f",
   "metadata": {},
   "source": [
    "### Summary of Extract :"
   ]
  },
  {
   "cell_type": "code",
   "execution_count": null,
   "id": "e7ea8353",
   "metadata": {},
   "outputs": [],
   "source": [
    "import os\n",
    "import csv\n",
    "import tempfile\n",
    "from zipfile import ZipFile\n",
    "\n",
    "import requests\n",
    "\n",
    "# Settings\n",
    "base_path = os.path.abspath(__file__ + \"/../../\")\n",
    "\n",
    "# START - Paths for new February 2021 data available\n",
    "\n",
    "# External website file url\n",
    "source_url = \"https://assets.datacamp.com/production/repositories/5899/datasets/66691278303f789ca4acd3c6406baa5fc6adaf28/PPR-ALL.zip\"\n",
    "\n",
    "# Source path where we want to save the .zip file downloaded from the website\n",
    "source_path = f\"{base_path}/data/source/downloaded_at=2021-02-01/PPR-ALL.zip\"\n",
    "\n",
    "# Raw path where we want to extract the new .csv data\n",
    "raw_path = f\"{base_path}/data/raw/downloaded_at=2021-02-01/ppr-all.csv\"\n",
    "\n",
    "# END - Paths for new February 2021 data available\n",
    "\n",
    "\n",
    "def create_folder_if_not_exists(path):\n",
    "    \"\"\"\n",
    "    Create a new folder if it doesn't exists\n",
    "    \"\"\"\n",
    "    os.makedirs(os.path.dirname(path), exist_ok=True)\n",
    "\n",
    "\n",
    "def download_snapshot():\n",
    "    \"\"\"\n",
    "    Download the new dataset from the source\n",
    "    \"\"\"\n",
    "    create_folder_if_not_exists(source_path)\n",
    "    with open(source_path, \"wb\") as source_ppr:\n",
    "        response = requests.get(source_url, verify=False)\n",
    "        source_ppr.write(response.content)\n",
    "\n",
    "\n",
    "def save_new_raw_data():\n",
    "    \"\"\"\n",
    "    Save new raw data from the source\n",
    "    \"\"\"\n",
    "\n",
    "    create_folder_if_not_exists(raw_path)\n",
    "    with tempfile.TemporaryDirectory() as dirpath:\n",
    "        with ZipFile(\n",
    "            source_path,\n",
    "            \"r\",\n",
    "        ) as zipfile:\n",
    "            names_list = zipfile.namelist()\n",
    "            csv_file_path = zipfile.extract(names_list[0], path=dirpath)\n",
    "            # Open the CSV file in read mode\n",
    "            with open(csv_file_path, mode=\"r\", encoding=\"windows-1252\") as csv_file:\n",
    "                reader = csv.DictReader(csv_file)\n",
    "\n",
    "                row = next(reader)  # Get first row from reader\n",
    "                print(\"[Extract] First row example:\", row)\n",
    "\n",
    "                # Open the CSV file in write mode\n",
    "                with open(\n",
    "                    raw_path,\n",
    "                    mode=\"w\",\n",
    "                    encoding=\"windows-1252\"\n",
    "                ) as csv_file:\n",
    "                    # Rename field names so they're ready for the next step\n",
    "                    fieldnames = {\n",
    "                        \"Date of Sale (dd/mm/yyyy)\": \"date_of_sale\",\n",
    "                        \"Address\": \"address\",\n",
    "                        \"Postal Code\": \"postal_code\",\n",
    "                        \"County\": \"county\",\n",
    "                        \"Price (€)\": \"price\",\n",
    "                        \"Description of Property\": \"description\",\n",
    "                    }\n",
    "                    writer = csv.DictWriter(csv_file, fieldnames=fieldnames)\n",
    "                    # Write headers as first line\n",
    "                    writer.writerow(fieldnames)\n",
    "                    for row in reader:\n",
    "                        # Write all rows in file\n",
    "                        writer.writerow(row)\n",
    "\n",
    "# Main function called inside the execute.py script\n",
    "def main():\n",
    "    print(\"[Extract] Start\")\n",
    "    print(\"[Extract] Downloading snapshot\")\n",
    "    download_snapshot.main()\n",
    "    save_new_raw_data.main()\n",
    "    print(f\"[Extract] Saving data from '{source_path}' to '{raw_path}'\")\n",
    "    import extract\n",
    "    if __name__ == \"__main__\":\n",
    "        extract.main()\n",
    "    print(f\"[Extract] End\")"
   ]
  },
  {
   "cell_type": "markdown",
   "id": "4fc34508",
   "metadata": {},
   "source": [
    "------------------------------------------------------------------------------------------------------------------------------"
   ]
  },
  {
   "cell_type": "markdown",
   "id": "3744106b",
   "metadata": {},
   "source": [
    "## TRANSFORM"
   ]
  },
  {
   "cell_type": "markdown",
   "id": "ec68db9c",
   "metadata": {},
   "source": [
    "<img src = \"https://i.ibb.co/qWdC7V2/image.png\" style=\"width:700px;height:500px\">"
   ]
  },
  {
   "cell_type": "markdown",
   "id": "bf3de394",
   "metadata": {},
   "source": [
    "<img src = \"https://i.ibb.co/0952BXK/image-1.png\" style=\"width700px;height:500px\">"
   ]
  },
  {
   "cell_type": "markdown",
   "id": "f3f32c46",
   "metadata": {},
   "source": [
    "<img src = \"https://i.ibb.co/7YmNb6B/image-2.png\" style=\"width:700px;height:500px\">"
   ]
  },
  {
   "cell_type": "markdown",
   "id": "83f4ff55",
   "metadata": {},
   "source": [
    "<img src = \"https://i.ibb.co/bQmM6ZY/image-3.png\" style=\"width:700px;height:500px\">"
   ]
  },
  {
   "cell_type": "code",
   "execution_count": null,
   "id": "7dfb37a6",
   "metadata": {},
   "outputs": [],
   "source": [
    "from datetime import datetime\n",
    "\n",
    "def transform_case(input_string):\n",
    "    \"\"\"\n",
    "    Lowercase string fields\n",
    "    \"\"\"\n",
    "    return input_string.lower()\n",
    "  \n",
    "def update_date_of_sale(date_input):\n",
    "    \"\"\"\n",
    "    Updates date format from DD/MM/YYYY to YYYY-MM-DD\n",
    "    \"\"\"\n",
    "    current_format = datetime.strptime(date_input, \"%d/%m/%Y\")\n",
    "    new_format = current_format.strftime(\"%Y-%m-%d\")\n",
    "    return new_format\n",
    "\n",
    "def update_price(price_input):\n",
    "    \"\"\"\n",
    "    Returns price as an integer by removing:\n",
    "    - \"€\" and \",\" symbol\n",
    "    - Converting to float first then to integer\n",
    "    \"\"\"\n",
    "    # Replace € with an empty string\n",
    "    price_input = price_input.replace(\"€\", \"\")\n",
    "    # Replace comma with an empty string\n",
    "    price_input = price_input.replace(\",\", \"\")\n",
    "    # Convert to float\n",
    "    price_input = float(price_input)\n",
    "    # Return price_input as integer\n",
    "    return int(price_input)\n",
    "  \n",
    "def update_description(description_input):\n",
    "    \"\"\"\n",
    "    Simplifies the description field for future analysis. Returns:\n",
    "    - \"new\" if string contains \"new\" substring\n",
    "    - \"second-hand\" if string contains \"second-hand\" substring\n",
    "    \"\"\"\n",
    "    description_input = transform_case(description_input)\n",
    "    # Check description and return \"new\" or \"second-hand\"\n",
    "    if \"new\" in description_input:\n",
    "        return \"new\"\n",
    "    elif \"second-hand\" in description_input:\n",
    "        return \"second-hand\"\n",
    "    return description_input"
   ]
  },
  {
   "cell_type": "markdown",
   "id": "05f868dc",
   "metadata": {},
   "source": [
    "<img src = \"https://i.ibb.co/7jq9bTc/image-4.png\" style=\"width:700px;height:500px\">"
   ]
  },
  {
   "cell_type": "markdown",
   "id": "27891ae1",
   "metadata": {},
   "source": [
    "<img src = \"https://i.ibb.co/HPYZHzD/image-5.png\" style=\"width:700px;height:500px\">"
   ]
  },
  {
   "cell_type": "markdown",
   "id": "e775867e",
   "metadata": {},
   "source": [
    "### Summary of Transform :"
   ]
  },
  {
   "cell_type": "code",
   "execution_count": null,
   "id": "b70f93e0",
   "metadata": {},
   "outputs": [],
   "source": [
    "import os\n",
    "import csv\n",
    "from datetime import datetime\n",
    "\n",
    "from common.tables import PprRawAll\n",
    "from common.base import session\n",
    "from sqlalchemy import text\n",
    "\n",
    "# Settings\n",
    "base_path = os.path.abspath(__file__ + \"/../../\")\n",
    "\n",
    "# START - Paths for new February 2021 data available\n",
    "\n",
    "# Raw path where we want to extract the new CSV data\n",
    "raw_path = f\"{base_path}/data/raw/downloaded_at=2021-02-01/ppr-all.csv\"\n",
    "\n",
    "# END - Paths for new February 2021 data available\n",
    "\n",
    "\n",
    "def transform_case(input_string):\n",
    "    \"\"\"\n",
    "    Lowercase string fields\n",
    "    \"\"\"\n",
    "    return input_string.lower()\n",
    "\n",
    "\n",
    "def update_date_of_sale(date_input):\n",
    "    \"\"\"\n",
    "    Update date format from DD/MM/YYYY to YYYY-MM-DD\n",
    "    \"\"\"\n",
    "    current_format = datetime.strptime(date_input, \"%d/%m/%Y\")\n",
    "    new_format = current_format.strftime(\"%Y-%m-%d\")\n",
    "    return new_format\n",
    "\n",
    "\n",
    "def update_description(description_input):\n",
    "    \"\"\"\n",
    "    Simplify the description field for potentialy future analysis, just return:\n",
    "    - \"new\" if string contains \"new\" substring\n",
    "    - \"second-hand\" if string contains \"second-hand\" substring\n",
    "    \"\"\"\n",
    "    description_input = transform_case(description_input)\n",
    "    if \"new\" in description_input:\n",
    "        return \"new\"\n",
    "    elif \"second-hand\" in description_input:\n",
    "        return \"second-hand\"\n",
    "    return description_input\n",
    "\n",
    "\n",
    "def update_price(price_input):\n",
    "    \"\"\"\n",
    "    Return price as integer by removing:\n",
    "    - \"€\" symbol\n",
    "    - \",\" to convert the number into float first (e.g. from \"€100,000.00\" to \"100000.00\")\n",
    "    \"\"\"\n",
    "    price_input = price_input.replace(\"€\", \"\")\n",
    "    price_input = float(price_input.replace(\",\", \"\"))\n",
    "    return int(price_input)\n",
    "\n",
    "\n",
    "def truncate_table():\n",
    "    \"\"\"\n",
    "    Ensure that \"ppr_raw_all\" table is always in empty state before running any transformations.\n",
    "    And primary key (id) restarts from 1.\n",
    "    \"\"\"\n",
    "    session.execute(\n",
    "        text(\"TRUNCATE TABLE ppr_raw_all;ALTER SEQUENCE ppr_raw_all_id_seq RESTART;\")\n",
    "    )\n",
    "    session.commit()\n",
    "\n",
    "\n",
    "def transform_new_data():\n",
    "    \"\"\"\n",
    "    Apply all transformations for each row in the .csv file before saving it into database\n",
    "    \"\"\"\n",
    "    with open(raw_path, mode=\"r\", encoding=\"windows-1252\") as csv_file:\n",
    "        # Read the new CSV snapshot ready to be processed\n",
    "        reader = csv.DictReader(csv_file)\n",
    "        # Initialize an empty list for our PprRawAll objects\n",
    "        ppr_raw_objects = []\n",
    "        for row in reader:\n",
    "            # Apply transformations and save as PprRawAll object\n",
    "            ppr_raw_objects.append(\n",
    "                PprRawAll(\n",
    "                    date_of_sale=update_date_of_sale(row[\"date_of_sale\"]),\n",
    "                    address=transform_case(row[\"address\"]),\n",
    "                    postal_code=transform_case(row[\"postal_code\"]),\n",
    "                    county=transform_case(row[\"county\"]),\n",
    "                    price=update_price(row[\"price\"]),\n",
    "                    description=update_description(row[\"description\"]),\n",
    "                )\n",
    "            )\n",
    "        # Save all new processed objects and commit\n",
    "        session.bulk_save_objects(ppr_raw_objects)\n",
    "        session.commit()\n",
    "\n",
    "\n",
    "def main():\n",
    "    print(\"[Transform] Start\")\n",
    "    print(\"[Transform] Remove any old data from ppr_raw_all table\")\n",
    "    truncate_table()\n",
    "    print(\"[Transform] Transform new data available in ppr_raw_all table\")\n",
    "    transform_new_data()\n",
    "    print(\"[Transform] End\")"
   ]
  },
  {
   "cell_type": "code",
   "execution_count": null,
   "id": "7194f865",
   "metadata": {},
   "outputs": [],
   "source": [
    "# Import the transform script\n",
    "import extract\n",
    "import transform\n",
    "\n",
    "# Call its main function\n",
    "if __name__ == \"__main__\":\n",
    "    extract.main()\n",
    "    transform.main() "
   ]
  },
  {
   "cell_type": "markdown",
   "id": "a5704227",
   "metadata": {},
   "source": [
    "------------------------------------------------------------------------------------------------------------------------------"
   ]
  },
  {
   "cell_type": "markdown",
   "id": "26d99880",
   "metadata": {},
   "source": [
    "# LOAD"
   ]
  },
  {
   "cell_type": "markdown",
   "id": "168b6c80",
   "metadata": {},
   "source": [
    "<img src = \"https://i.ibb.co/gvMH6BL/image.png\" style=\"width:700px;height:500px\">"
   ]
  },
  {
   "cell_type": "markdown",
   "id": "2a50e5d9",
   "metadata": {},
   "source": [
    "<img src = \"https://i.ibb.co/D8JZFyh/image-1.png\" style=\"width:700px;height:500px\">"
   ]
  },
  {
   "cell_type": "code",
   "execution_count": null,
   "id": "d1286f2c",
   "metadata": {},
   "outputs": [],
   "source": [
    "from sqlalchemy import cast, Column, Integer, String, Date\n",
    "# Import the function required\n",
    "from sqlalchemy.orm import column_property\n",
    "\n",
    "from base import Base\n",
    "\n",
    "class PprRawAll(Base):\n",
    "    __tablename__ = \"ppr_raw_all\"\n",
    "\n",
    "    id = Column(Integer, primary_key=True)\n",
    "    date_of_sale = Column(String(55))\n",
    "    address = Column(String(255))\n",
    "    postal_code = Column(String(55))\n",
    "    county = Column(String(55))\n",
    "    price = Column(String(55))\n",
    "    description = Column(String(255))\n",
    "    # Create a unique transaction id\n",
    "    transaction_id = column_property(\n",
    "        date_of_sale + \"_\" + address + \"_\" + county + \"_\" + price\n",
    "    )\n",
    "\n",
    "class PprCleanAll(Base):\n",
    "    __tablename__ = \"ppr_clean_all\"\n",
    "\n",
    "    id = Column(Integer, primary_key=True)\n",
    "    date_of_sale = Column(Date)\n",
    "    address = Column(String(255))\n",
    "    postal_code = Column(String(55))\n",
    "    county = Column(String(55))\n",
    "    price = Column(Integer)\n",
    "    description = Column(String(255))\n",
    "    # Create a unique transaction id\n",
    "    # all non-string columns are casted as string\n",
    "    transaction_id = column_property(\n",
    "        cast(date_of_sale, String) + \"_\" + address + \"_\" + county + \"_\" + cast(price, String)\n",
    "    )"
   ]
  },
  {
   "cell_type": "markdown",
   "id": "14913a62",
   "metadata": {},
   "source": [
    "<img src = \"https://i.ibb.co/sgLP4Jj/image-2.png\" style=\"width:700px;height:400px\">"
   ]
  },
  {
   "cell_type": "markdown",
   "id": "357ec0ab",
   "metadata": {},
   "source": [
    "<img src = \"https://i.ibb.co/c2rZtgh/image-3.png\" style=\"width:700px;height:500px\">"
   ]
  },
  {
   "cell_type": "markdown",
   "id": "611803f7",
   "metadata": {},
   "source": [
    "<img src = \"https://i.ibb.co/z5CrqXh/image-4.png\" style=\"width:700px;height:500px\">"
   ]
  },
  {
   "cell_type": "markdown",
   "id": "443812b8",
   "metadata": {},
   "source": [
    "<img src = \"https://i.ibb.co/qxsdwPC/image-5.png\" style=\"width:700px;height:500px\">"
   ]
  },
  {
   "cell_type": "code",
   "execution_count": null,
   "id": "d9d90fe2",
   "metadata": {},
   "outputs": [],
   "source": [
    "from sqlalchemy import cast\n",
    "from sqlalchemy.dialects.postgresql import insert\n",
    "\n",
    "# Select the transaction ids\n",
    "clean_transaction_ids = session.query(PprCleanAll.transaction_id)\n",
    "\n",
    "# Select the columns and cast the appropriate types if needed\n",
    "transactions_to_insert = session.query(\n",
    "    cast(PprRawAll.date_of_sale, Date),\n",
    "    PprRawAll.address,\n",
    "    PprRawAll.postal_code,\n",
    "    PprRawAll.county,\n",
    "    cast(PprRawAll.price, Integer),\n",
    "    PprRawAll.description,\n",
    "  # Filter for the new rows\n",
    ").filter(~PprRawAll.transaction_id.in_(clean_transaction_ids))\n",
    "\n",
    "# Print total number of transactions to insert\n",
    "# it should be 3154 if the transactions need to be inserted\n",
    "# 0, if all transactions have been inserted\n",
    "print(\"Transactions to insert:\", transactions_to_insert.count())\n",
    "\n",
    "# Insert the rows from the previously selected transactions\n",
    "columns = [\"date_of_sale\", \"address\", \"postal_code\",\n",
    "          \"county\", \"price\",\"description\"]\n",
    "stm = insert(PprCleanAll).from_select(columns, transactions_to_insert)\n",
    "\n",
    "# Execute and commit the statement to make changes in the database.\n",
    "session.execute(stm)\n",
    "session.commit()"
   ]
  },
  {
   "cell_type": "code",
   "execution_count": null,
   "id": "8900efae",
   "metadata": {},
   "outputs": [],
   "source": [
    "# Import the delete module\n",
    "from sqlalchemy import delete\n",
    "\n",
    "# Get all the ppr_raw_all transaction ids\n",
    "raw_transaction_ids = session.query(PprRawAll.transaction_id)\n",
    "\n",
    "# Filter all the ppr_clean_all table transactions that are not present in the ppr_raw_all table\n",
    "transactions_to_delete = session.query(PprCleanAll).filter(~PprCleanAll.transaction_id.in_(raw_transaction_ids))\n",
    "\n",
    "# Print transactions to delete\n",
    "print(\"Transactions to delete:\", transactions_to_delete.count())\n",
    "\n",
    "# Delete the selected transactions\n",
    "# (Please note: the param \"synchronize_session=False\" has been inserted\n",
    "# to avoid inconsistent results if a session expires)\n",
    "transactions_to_delete.delete(synchronize_session=False)\n",
    "\n",
    "# Commit the session to make the changes in the database\n",
    "session.commit()"
   ]
  },
  {
   "cell_type": "markdown",
   "id": "03cd5990",
   "metadata": {},
   "source": [
    "### Summary of Load :"
   ]
  },
  {
   "cell_type": "code",
   "execution_count": null,
   "id": "06e984b6",
   "metadata": {},
   "outputs": [],
   "source": [
    "from common.base import session\n",
    "from common.tables import PprRawAll, PprCleanAll\n",
    "\n",
    "from sqlalchemy import cast, Integer, Date\n",
    "from sqlalchemy.dialects.postgresql import insert\n",
    "\n",
    "\n",
    "def insert_transactions():\n",
    "    \"\"\"\n",
    "    Insert operation: add new data\n",
    "    \"\"\"\n",
    "    # Retrieve all the transaction ids from the clean table\n",
    "    clean_transaction_ids = session.query(PprCleanAll.transaction_id)\n",
    "\n",
    "    # date_of_sale and price needs to be casted as their\n",
    "    # datatype is not string but, respectively, Date and Integer\n",
    "    transactions_to_insert = session.query(\n",
    "        cast(PprRawAll.date_of_sale, Date),\n",
    "        PprRawAll.address,\n",
    "        PprRawAll.postal_code,\n",
    "        PprRawAll.county,\n",
    "        cast(PprRawAll.price, Integer),\n",
    "        PprRawAll.description,\n",
    "    ).filter(~PprRawAll.transaction_id.in_(clean_transaction_ids))\n",
    "\t\n",
    "    # Print total number of transactions to insert\n",
    "    print(\"Transactions to insert:\", transactions_to_insert.count())\n",
    "    \n",
    "    # Insert the rows from the previously selected transactions\n",
    "    stm = insert(PprCleanAll).from_select(\n",
    "        [\"date_of_sale\", \"address\", \"postal_code\", \"county\", \"price\", \"description\"],\n",
    "        transactions_to_insert,\n",
    "    )\n",
    "\n",
    "    # Execute and commit the statement to make changes in the database.\n",
    "    session.execute(stm)\n",
    "    session.commit()\n",
    "\n",
    "\n",
    "def delete_transactions():\n",
    "    \"\"\"\n",
    "    Delete operation: delete any row not present in the last snapshot\n",
    "    \"\"\"\n",
    "    # Get all ppr_raw_all transaction ids\n",
    "    raw_transaction_ids = session.query(PprRawAll.transaction_id)\n",
    "\n",
    "    # Filter all the ppt_clean_all table transactions that are not present in the ppr_raw_all table\n",
    "    # and delete them.\n",
    "    # Passing synchronize_session as argument for the delete method.\n",
    "    transactions_to_delete = session.query(PprCleanAll).filter(\n",
    "        ~PprCleanAll.transaction_id.in_(raw_transaction_ids)\n",
    "    )\n",
    "    \n",
    "    # Print transactions to delete\n",
    "    print(\"Transactions to delete:\", transactions_to_delete.count())\n",
    "\n",
    "    # Delete transactions\n",
    "    transactions_to_delete.delete(synchronize_session=False)\n",
    "\n",
    "    # Commit the session to make the changes in the database\n",
    "    session.commit()\n",
    "\n",
    "def main():\n",
    "    print(\"[Load] Start\")\n",
    "    print(\"[Load] Inserting new rows\")\n",
    "    insert_transactions()\n",
    "    print(\"[Load] Deleting rows not available in the new transformed data\")\n",
    "    delete_transactions()\n",
    "    print(\"[Load] End\")"
   ]
  },
  {
   "cell_type": "code",
   "execution_count": null,
   "id": "68e97ec0",
   "metadata": {},
   "outputs": [],
   "source": [
    "import extract\n",
    "import transform\n",
    "import load\n",
    "\n",
    "if __name__ == \"__main__\":\n",
    "    extract.main()\n",
    "    transform.main()\n",
    "    load.main()"
   ]
  },
  {
   "cell_type": "markdown",
   "id": "f4ae6a98",
   "metadata": {},
   "source": [
    "------------------------------------------------------------------------------------------------------------------------------"
   ]
  },
  {
   "cell_type": "markdown",
   "id": "c44796ff",
   "metadata": {},
   "source": [
    "# OPERATORS"
   ]
  },
  {
   "cell_type": "code",
   "execution_count": null,
   "id": "0e521182",
   "metadata": {},
   "outputs": [],
   "source": [
    "# Import the operator you need\n",
    "from sqlalchemy import or_\n",
    "\n",
    "# Query the clean table to retrieve the total number of\n",
    "# transactions for the Dublin or Cork counties\n",
    "result = session.query(PprCleanAll) \\\n",
    "                .filter(or_(PprCleanAll.county == \"dublin\", PprCleanAll.county == \"cork\")) \\\n",
    "                .all()\n",
    "\n",
    "print(\"First row address:\", result[0].address)"
   ]
  },
  {
   "cell_type": "code",
   "execution_count": null,
   "id": "45c2f0ad",
   "metadata": {},
   "outputs": [],
   "source": [
    "# Import the and function needed\n",
    "from sqlalchemy import and_\n",
    "\n",
    "# Retrieve all sales transactions for January 2021\n",
    "result = session.query(PprCleanAll).filter(and_(PprCleanAll.date_of_sale >= \"2021-01-01\", PprCleanAll.date_of_sale <= \"2021-01-31\")).all()\n",
    "\n",
    "print(\"First row address:\", result[0].address)"
   ]
  },
  {
   "cell_type": "code",
   "execution_count": null,
   "id": "e4f9ed17",
   "metadata": {},
   "outputs": [],
   "source": [
    "# Get the maximum, minimum and average values for each product category\n",
    "result = session.query(Products.category,\n",
    "                       func.max(Products.price),\n",
    "                       func.min(Products.price),\n",
    "                       func.avg(Products.price)) \\\n",
    "                .group_by(Products.category).all()\n",
    "\n",
    "print(\"Result:\", result)"
   ]
  },
  {
   "cell_type": "code",
   "execution_count": null,
   "id": "c29e2353",
   "metadata": {},
   "outputs": [],
   "source": [
    "from common.base import session\n",
    "\n",
    "# Create the view with the appropriate metrics\n",
    "query = \"\"\"\n",
    "CREATE OR REPLACE VIEW insights AS\n",
    "SELECT county,\n",
    "       COUNT(*) AS sales_count,\n",
    "       SUM(CAST(price AS int)) AS sales_total,\n",
    "       MAX(CAST(price AS int)) AS sales_max,\n",
    "       MIN(CAST(price AS int)) AS sales_min,\n",
    "       AVG(CAST(price AS int))::numeric(10,2) AS sales_avg\n",
    "FROM ppr_clean_all\n",
    "GROUP BY county\n",
    "\"\"\"\n",
    "\n",
    "# Execute and commit\n",
    "session.execute(query)\n",
    "session.commit()"
   ]
  },
  {
   "cell_type": "raw",
   "id": "16317b9e",
   "metadata": {},
   "source": [
    "How many counties?\n",
    "The shareholder is visiting the office today and heard you were done creating the view she requested. She stops by your desk to ask if you could tell her how many counties are present in the insights view.\n",
    "\n",
    "Remember:\n",
    "* The insights view is grouped by county.\n",
    "* You can use raw SQL to query the insights table.\n",
    "* You need to build something like SELECT ____ FROM insights and use it in the session.execute().all() method.\n",
    "* ____ should be replaced by the SQL function to count the number of rows…which means, the number of counties.\n",
    "The session is already available and ready to use."
   ]
  },
  {
   "cell_type": "code",
   "execution_count": null,
   "id": "d7bd6bf4",
   "metadata": {},
   "outputs": [],
   "source": [
    "# Import the submodule required\n",
    "from sqlalchemy import func\n",
    "\n",
    "# Get the maximum, minimum and average values for each product category\n",
    "result = session.query(Products.category,\n",
    "                       func.max(Products.price),\n",
    "                       func.min(Products.price),\n",
    "                       func.avg(Products.price)) \\\n",
    "                .group_by(Products.category).all()\n",
    "\n",
    "print(\"Result:\", result)"
   ]
  },
  {
   "cell_type": "code",
   "execution_count": null,
   "id": "639c797c",
   "metadata": {},
   "outputs": [],
   "source": [
    "session.execute('SELECT COUNT(*) FROM insights').all()"
   ]
  },
  {
   "cell_type": "markdown",
   "id": "68d1f406",
   "metadata": {},
   "source": [
    "<img src = \"https://i.ibb.co/pvgNgqz/image.png\" style=\"width:700px;height:500px\">"
   ]
  },
  {
   "cell_type": "markdown",
   "id": "d6bb8555",
   "metadata": {},
   "source": [
    "<img src = \"https://i.ibb.co/jLJ9z8W/image-1.png\" style=\"width:700px;height:500px\">"
   ]
  },
  {
   "cell_type": "code",
   "execution_count": null,
   "id": "4b661c32",
   "metadata": {},
   "outputs": [],
   "source": [
    "from datetime import datetime\n",
    "import os\n",
    "\n",
    "from common.base import session\n",
    "from common.tables import PprCleanAll\n",
    "import xlsxwriter\n",
    "\n",
    "\n",
    "# Settings\n",
    "base_path = os.path.abspath(__file__ + \"/../../\")\n",
    "ref_month = datetime.today().strftime(\"%Y-%m\")\n",
    "\n",
    "if __name__ == \"__main__\":\n",
    "    data = session.execute(\"SELECT * FROM insights\").all()\n",
    "    ref_month = datetime.today().strftime(\"%Y-%m\")\n",
    "    \n",
    "    # Create the workbook\n",
    "    workbook = xlsxwriter.Workbook(\n",
    "        f\"{base_path}/insights_export/InsightsExport_202102.xlsx\"\n",
    "    )\n",
    "    \n",
    "    # Add a new worksheet\n",
    "    worksheet = workbook.add_worksheet()\n",
    "    worksheet.set_column(\"B:G\", 12)\n",
    "    \n",
    "    # Add the table with all results in the newly created worksheet\n",
    "    worksheet.add_table(\n",
    "        \"B3:E20\",\n",
    "        {\n",
    "            \"data\": data,\n",
    "            \"columns\": [\n",
    "                {\"header\": \"County\"},\n",
    "                {\"header\": \"Number of Sales 3 month\"},\n",
    "                {\"header\": \"Tot sales 3 months\"},\n",
    "                {\"header\": \"Max sales 3 months\"},\n",
    "                {\"header\": \"Min sales 3 months\"},\n",
    "                {\"header\": \"Avg sales 3 months\"},\n",
    "            ],\n",
    "        },\n",
    "    )\n",
    "    workbook.close()\n",
    "    \n",
    "    print(\"Data exported:\", f\"{base_path}/insights_export/InsightsExport_202102.xlsx\")"
   ]
  },
  {
   "cell_type": "code",
   "execution_count": null,
   "id": "9ae852db",
   "metadata": {},
   "outputs": [],
   "source": []
  }
 ],
 "metadata": {
  "kernelspec": {
   "display_name": "Python 3 (ipykernel)",
   "language": "python",
   "name": "python3"
  },
  "language_info": {
   "codemirror_mode": {
    "name": "ipython",
    "version": 3
   },
   "file_extension": ".py",
   "mimetype": "text/x-python",
   "name": "python",
   "nbconvert_exporter": "python",
   "pygments_lexer": "ipython3",
   "version": "3.8.8"
  }
 },
 "nbformat": 4,
 "nbformat_minor": 5
}
